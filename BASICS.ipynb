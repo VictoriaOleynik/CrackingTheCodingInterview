{
 "cells": [
  {
   "cell_type": "markdown",
   "metadata": {},
   "source": [
    "### Data Structures"
   ]
  },
  {
   "cell_type": "markdown",
   "metadata": {},
   "source": [
    "__Linked list__"
   ]
  },
  {
   "cell_type": "code",
   "execution_count": 180,
   "metadata": {
    "collapsed": true
   },
   "outputs": [],
   "source": [
    "class Node:\n",
    "    def __init__(self, x):\n",
    "        self.data = x\n",
    "        self.next = None\n",
    "    def get_val(self):\n",
    "        return self.data\n",
    "    def set_val(self, new):\n",
    "        self.data = new\n",
    "    def get_next(self):\n",
    "        return self.next\n",
    "    def set_next(self,newnext):\n",
    "        self.next = newnext"
   ]
  },
  {
   "cell_type": "code",
   "execution_count": 186,
   "metadata": {
    "collapsed": true
   },
   "outputs": [],
   "source": [
    "class LinkedList:\n",
    "    def __init__(self, head=None):\n",
    "        self.head = head\n",
    "    def insert_node(self,x):\n",
    "        newnode = Node(x)\n",
    "        newnode.set_next(self.head)\n",
    "        self.head = newnode\n",
    "    def size(self):\n",
    "        count = 0\n",
    "        node = self.head\n",
    "        while(node.next):\n",
    "            count += 1\n",
    "            node = node.get_next()\n",
    "        return count\n",
    "    def search_node(self, x):\n",
    "        node = self.head\n",
    "        found = False\n",
    "        while (node and not found):\n",
    "            if node.get_val() == x:\n",
    "                found = True\n",
    "            else:\n",
    "                node =node.get_next()\n",
    "        if node is None:\n",
    "            raise ValueError(\"Node not found\")\n",
    "        return current\n",
    "    def delete_node(self,x):\n",
    "        node = self.head\n",
    "        previous = None\n",
    "        found = False\n",
    "        while node and not found:\n",
    "            if node.get_val() == x:\n",
    "                found = True\n",
    "            else:\n",
    "                node = node.get_next()\n",
    "        if node is None:\n",
    "            raise ValueError(\"Node not found\")\n",
    "        if previous is None:\n",
    "            self.head = node.get_next()\n",
    "        else:\n",
    "            previous.set_next(node.next())"
   ]
  },
  {
   "cell_type": "markdown",
   "metadata": {},
   "source": [
    "__Queue__"
   ]
  },
  {
   "cell_type": "code",
   "execution_count": 257,
   "metadata": {
    "collapsed": true
   },
   "outputs": [],
   "source": [
    "class Queue:\n",
    "    def __init__(self):\n",
    "        self.first = None\n",
    "        self.last = None\n",
    "    def enqueue(self,x):\n",
    "        newnode = Node(x)\n",
    "        if self.first == None:\n",
    "            self.first = newnode\n",
    "            self.last = newnode\n",
    "        else:\n",
    "            self.last.next = newnode\n",
    "            self.last = newnode\n",
    "    def dequeue(self):\n",
    "        if self.first == None:\n",
    "            raise ValueError(\"Empty queue\")\n",
    "        else:\n",
    "            data = self.first.data\n",
    "            nextnode = self.first.next\n",
    "            if nextnode is None:\n",
    "                self.first = None\n",
    "                self.last = None\n",
    "            else:\n",
    "                self.first = nextnode\n",
    "            return data"
   ]
  },
  {
   "cell_type": "code",
   "execution_count": 266,
   "metadata": {},
   "outputs": [
    {
     "data": {
      "text/plain": [
       "2"
      ]
     },
     "execution_count": 266,
     "metadata": {},
     "output_type": "execute_result"
    }
   ],
   "source": [
    "myqueue = Queue()    \n",
    "myqueue.enqueue(1)\n",
    "myqueue.enqueue(2)\n",
    "myqueue.enqueue(3)\n",
    "myqueue.enqueue(4)\n",
    "myqueue.dequeue()\n",
    "myqueue.enqueue(1)\n",
    "myqueue.dequeue()"
   ]
  },
  {
   "cell_type": "markdown",
   "metadata": {},
   "source": [
    "__Stack__"
   ]
  },
  {
   "cell_type": "code",
   "execution_count": 193,
   "metadata": {
    "collapsed": true
   },
   "outputs": [],
   "source": [
    "class Stack:\n",
    "    def __init__(self):\n",
    "        self.top = None\n",
    "    def push(self,x):\n",
    "        newnode = Node(x)\n",
    "        if self.top:\n",
    "            newnode.next = self.top\n",
    "        self.top = newnode\n",
    "    def pop(self):\n",
    "        if self.top:\n",
    "            temp = self.top\n",
    "            self.top = self.top.next\n",
    "            return temp.data\n",
    "        else:\n",
    "            raise ValueError(\"Stack is empty\")"
   ]
  },
  {
   "cell_type": "code",
   "execution_count": 265,
   "metadata": {},
   "outputs": [
    {
     "data": {
      "text/plain": [
       "1"
      ]
     },
     "execution_count": 265,
     "metadata": {},
     "output_type": "execute_result"
    }
   ],
   "source": [
    "mystack = Stack()\n",
    "mystack.push(1)\n",
    "mystack.push(2)\n",
    "mystack.push(3)\n",
    "mystack.push(4)\n",
    "mystack.pop()\n",
    "mystack.push(1)\n",
    "mystack.pop()"
   ]
  },
  {
   "cell_type": "markdown",
   "metadata": {},
   "source": [
    "## Sorting"
   ]
  },
  {
   "cell_type": "markdown",
   "metadata": {},
   "source": [
    "__QuickSort__"
   ]
  },
  {
   "cell_type": "code",
   "execution_count": 253,
   "metadata": {
    "collapsed": true
   },
   "outputs": [],
   "source": [
    "def quicksort(a):\n",
    "    less = []\n",
    "    greater = []\n",
    "    equal = []\n",
    "    if len(a)>1:\n",
    "        pivot = a[0]\n",
    "        for x in a:\n",
    "            if x<pivot:\n",
    "                less.append(x)\n",
    "            elif x==pivot:\n",
    "                equal.append(x)\n",
    "            else:\n",
    "                greater.append(x)\n",
    "        return quicksort(less)+equal+quicksort(greater)\n",
    "    else:\n",
    "        return a"
   ]
  },
  {
   "cell_type": "code",
   "execution_count": 254,
   "metadata": {},
   "outputs": [
    {
     "data": {
      "text/plain": [
       "[-1, 1, 2, 9, 16, 22, 23, 34, 543]"
      ]
     },
     "execution_count": 254,
     "metadata": {},
     "output_type": "execute_result"
    }
   ],
   "source": [
    "quicksort([-1,9,23,543,1,34,2,22,16])"
   ]
  },
  {
   "cell_type": "markdown",
   "metadata": {},
   "source": [
    "Algorithm\n",
    "\n",
    "Choose a pivot\n",
    "Set a left pointer and right pointer\n",
    "Compare the left pointer element (lelement) with the pivot and the right pointer element (relement) with the pivot.\n",
    "Check if lelement<pivot and relement>pivot:\n",
    "If yes, increment the left pointer and decrement the right pointer\n",
    "If not, swap the lelement and relement\n",
    "When left >= right, swap the pivot with either left or right pointer.\n",
    "Repeat steps 1 - 5 on the left half and the right half of the list till the entire list is sorted."
   ]
  },
  {
   "cell_type": "code",
   "execution_count": null,
   "metadata": {
    "collapsed": true
   },
   "outputs": [],
   "source": [
    "def quickSort(alist):\n",
    "    quickSortHelper(alist,0,len(alist)-1)\n",
    "\n",
    "def quickSortHelper(alist,first,last):\n",
    "    if first<last:\n",
    "        splitpoint = partition(alist,first,last)\n",
    "        quickSortHelper(alist,first,splitpoint-1)\n",
    "        quickSortHelper(alist,splitpoint+1,last)\n",
    "\n",
    "def partition(alist,first,last):\n",
    "    pivotvalue = alist[first]\n",
    "    leftmark = first+1\n",
    "    rightmark = last\n",
    "    done = False\n",
    "    while not done:\n",
    "        while leftmark <= rightmark and alist[leftmark] <= pivotvalue:\n",
    "            leftmark = leftmark + 1\n",
    "\n",
    "    while alist[rightmark] >= pivotvalue and rightmark >= leftmark:\n",
    "        rightmark = rightmark -1\n",
    "\n",
    "    if rightmark < leftmark:\n",
    "        done = True\n",
    "    else:\n",
    "        temp = alist[leftmark]\n",
    "        alist[leftmark] = alist[rightmark]\n",
    "        alist[rightmark] = temp\n",
    "        \n",
    "    temp = alist[first]\n",
    "    alist[first] = alist[rightmark]\n",
    "    alist[rightmark] = temp\n",
    "    return rightmark\n",
    "\n",
    "alist = [54,26,93,17,77,31,44,55,20]\n",
    "quickSort(alist)\n",
    "print(alist)"
   ]
  },
  {
   "cell_type": "markdown",
   "metadata": {},
   "source": [
    "__MergeSort__"
   ]
  },
  {
   "cell_type": "code",
   "execution_count": 248,
   "metadata": {
    "collapsed": true
   },
   "outputs": [],
   "source": [
    "def merge(a,b):\n",
    "    res =[]\n",
    "    while a!=[] and b!=[]:\n",
    "        if a[0]<b[0]:\n",
    "            res.append(a[0])\n",
    "            a.remove(a[0])\n",
    "        else:\n",
    "            res.append(b[0])\n",
    "            b.remove(b[0])\n",
    "    if a==[]:\n",
    "        res+=b\n",
    "    else:\n",
    "        res+=a\n",
    "    return res\n",
    "\n",
    "def mergeSort(a):\n",
    "    if len(a)==1 or len(a)==0:\n",
    "        return a\n",
    "    else:\n",
    "        middle = len(a)//2\n",
    "        l = mergeSort(a[:middle])\n",
    "        r = mergeSort(a[middle:])\n",
    "        return merge(l, r)"
   ]
  },
  {
   "cell_type": "code",
   "execution_count": 249,
   "metadata": {},
   "outputs": [
    {
     "data": {
      "text/plain": [
       "[-1, 1, 2, 9, 16, 22, 23, 34, 543]"
      ]
     },
     "execution_count": 249,
     "metadata": {},
     "output_type": "execute_result"
    }
   ],
   "source": [
    "mergeSort([-1,9,23,543,1,34,2,22,16])"
   ]
  },
  {
   "cell_type": "markdown",
   "metadata": {},
   "source": [
    "__Insertion Sort__"
   ]
  },
  {
   "cell_type": "code",
   "execution_count": 255,
   "metadata": {
    "collapsed": true
   },
   "outputs": [],
   "source": [
    "def insertion_sort(mylist):\n",
    "    for i,x in enumerate(mylist):\n",
    "        temp = x\n",
    "        j = i\n",
    "        while j>0 and mylist[j-1]>temp:\n",
    "            mylist[j]=mylist[j-1]\n",
    "            j -=1\n",
    "        mylist[j]=temp\n",
    "    return mylist"
   ]
  },
  {
   "cell_type": "code",
   "execution_count": 256,
   "metadata": {},
   "outputs": [
    {
     "data": {
      "text/plain": [
       "[-1, 1, 2, 9, 16, 22, 23, 34, 543]"
      ]
     },
     "execution_count": 256,
     "metadata": {},
     "output_type": "execute_result"
    }
   ],
   "source": [
    "insertion_sort([-1,9,23,543,1,34,2,22,16])"
   ]
  },
  {
   "cell_type": "markdown",
   "metadata": {},
   "source": [
    "__ Binary Search__"
   ]
  },
  {
   "cell_type": "code",
   "execution_count": 310,
   "metadata": {
    "collapsed": true
   },
   "outputs": [],
   "source": [
    "def binary_search(mylist, x):\n",
    "    first = 0\n",
    "    last = len(mylist)-1\n",
    "    found = False\n",
    "    while not found and first<=last:\n",
    "        middle = (first+last)//2\n",
    "        if x == mylist[middle]:\n",
    "            found = True\n",
    "        elif x < mylist[middle]:\n",
    "            last = middle-1\n",
    "        else:\n",
    "            first = middle+1\n",
    "    if found:\n",
    "        return x\n",
    "    else:\n",
    "        return \"Not found\""
   ]
  },
  {
   "cell_type": "code",
   "execution_count": 325,
   "metadata": {
    "collapsed": true
   },
   "outputs": [],
   "source": [
    "# recursive\n",
    "def binary_search(mylist,x):\n",
    "    if len(mylist)==0:\n",
    "        return None\n",
    "    middle = len(mylist)//2\n",
    "    if mylist[middle]==x:\n",
    "        return x\n",
    "    else:\n",
    "        if mylist[middle]<x:\n",
    "            binary_search(mylist[:middle-1],x)\n",
    "        else:\n",
    "            binary_search(mylist[middle+1:],x)"
   ]
  },
  {
   "cell_type": "code",
   "execution_count": 327,
   "metadata": {},
   "outputs": [],
   "source": [
    "binary_search([1,2,3,5,7],6)"
   ]
  },
  {
   "cell_type": "markdown",
   "metadata": {},
   "source": [
    "__Graph__"
   ]
  },
  {
   "cell_type": "code",
   "execution_count": 277,
   "metadata": {
    "collapsed": true
   },
   "outputs": [],
   "source": [
    "graph = {'A': set(['B', 'C']),\n",
    "         'B': set(['A', 'D', 'E']),\n",
    "         'C': set(['A', 'F']),\n",
    "         'D': set(['B']),\n",
    "         'E': set(['B', 'F']),\n",
    "         'F': set(['C', 'E'])}"
   ]
  },
  {
   "cell_type": "markdown",
   "metadata": {},
   "source": [
    "__BFS__"
   ]
  },
  {
   "cell_type": "code",
   "execution_count": null,
   "metadata": {
    "collapsed": true
   },
   "outputs": [],
   "source": []
  },
  {
   "cell_type": "code",
   "execution_count": 281,
   "metadata": {},
   "outputs": [
    {
     "data": {
      "text/plain": [
       "{'B', 'C'}"
      ]
     },
     "execution_count": 281,
     "metadata": {},
     "output_type": "execute_result"
    }
   ],
   "source": []
  },
  {
   "cell_type": "markdown",
   "metadata": {},
   "source": [
    "__DFS__"
   ]
  },
  {
   "cell_type": "code",
   "execution_count": 285,
   "metadata": {},
   "outputs": [
    {
     "name": "stdout",
     "output_type": "stream",
     "text": [
      "A\n",
      "C\n",
      "F\n",
      "E\n",
      "B\n",
      "D\n"
     ]
    }
   ],
   "source": [
    "visited = []\n",
    "def DFS(G,v):\n",
    "    print(v)\n",
    "    visited.append(v)\n",
    "    for w in G.get(v):\n",
    "        if not w in visited:\n",
    "            DFS(G,w)\n",
    "for v in graph:\n",
    "    if not v in visited:\n",
    "        DFS(graph,v)"
   ]
  },
  {
   "cell_type": "code",
   "execution_count": 286,
   "metadata": {},
   "outputs": [
    {
     "data": {
      "text/plain": [
       "{'A', 'B', 'C', 'D', 'E', 'F'}"
      ]
     },
     "execution_count": 286,
     "metadata": {},
     "output_type": "execute_result"
    }
   ],
   "source": [
    "def dfs(graph, start, visited=None):\n",
    "    if visited is None:\n",
    "        visited = set()\n",
    "    visited.add(start)\n",
    "    for next in graph[start] - visited:\n",
    "        dfs(graph, next, visited)\n",
    "    return visited\n",
    "\n",
    "dfs(graph, 'C')"
   ]
  },
  {
   "cell_type": "code",
   "execution_count": null,
   "metadata": {
    "collapsed": true
   },
   "outputs": [],
   "source": [
    "def DFS(G,s):\n",
    "   for all v in V[G] do\n",
    "      visited[v] := false\n",
    "   end for\n",
    "   S := EmptyStack\n",
    "   Push(S,s)\n",
    "   while not Empty(S) do\n",
    "      u := Pop(S)\n",
    "      if not visited[u] then\n",
    "         visted[u] := true\n",
    "         for all w in Adj[u] do\n",
    "            if not visited[w] then\n",
    "               Push(S,w)\n",
    "end if end for\n",
    "      end if\n",
    "   end while\n"
   ]
  },
  {
   "cell_type": "code",
   "execution_count": 275,
   "metadata": {},
   "outputs": [],
   "source": []
  },
  {
   "cell_type": "code",
   "execution_count": 276,
   "metadata": {},
   "outputs": [
    {
     "data": {
      "text/plain": [
       "{'A': {'B', 'C'},\n",
       " 'B': {'A', 'D', 'E'},\n",
       " 'C': {'A', 'F'},\n",
       " 'D': {'B'},\n",
       " 'E': {'B', 'F'},\n",
       " 'F': {'C', 'E'}}"
      ]
     },
     "execution_count": 276,
     "metadata": {},
     "output_type": "execute_result"
    }
   ],
   "source": []
  },
  {
   "cell_type": "code",
   "execution_count": null,
   "metadata": {
    "collapsed": true
   },
   "outputs": [],
   "source": []
  },
  {
   "cell_type": "code",
   "execution_count": 317,
   "metadata": {
    "collapsed": true
   },
   "outputs": [],
   "source": [
    "a = [1, 2, 3, 4, 5]\n",
    "b = [2, 2, 9, 0, 9]"
   ]
  },
  {
   "cell_type": "code",
   "execution_count": 323,
   "metadata": {},
   "outputs": [
    {
     "data": {
      "text/plain": [
       "<function __main__.<lambda>>"
      ]
     },
     "execution_count": 323,
     "metadata": {},
     "output_type": "execute_result"
    }
   ],
   "source": [
    "lambda pair: max(pair)"
   ]
  },
  {
   "cell_type": "code",
   "execution_count": 324,
   "metadata": {},
   "outputs": [
    {
     "data": {
      "text/plain": [
       "<map at 0x10f09ea58>"
      ]
     },
     "execution_count": 324,
     "metadata": {},
     "output_type": "execute_result"
    }
   ],
   "source": [
    "map(lambda pair: max(pair), zip(a, b))"
   ]
  },
  {
   "cell_type": "code",
   "execution_count": null,
   "metadata": {
    "collapsed": true
   },
   "outputs": [],
   "source": []
  }
 ],
 "metadata": {
  "kernelspec": {
   "display_name": "Python 3",
   "language": "python",
   "name": "python3"
  },
  "language_info": {
   "codemirror_mode": {
    "name": "ipython",
    "version": 3
   },
   "file_extension": ".py",
   "mimetype": "text/x-python",
   "name": "python",
   "nbconvert_exporter": "python",
   "pygments_lexer": "ipython3",
   "version": "3.6.1"
  }
 },
 "nbformat": 4,
 "nbformat_minor": 2
}
