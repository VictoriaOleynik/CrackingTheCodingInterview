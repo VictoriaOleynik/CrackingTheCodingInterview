{
 "cells": [
  {
   "cell_type": "markdown",
   "metadata": {},
   "source": [
    "## Cracking the Coding Interview\n",
    "### Chapter 1. Arrays and Strings"
   ]
  },
  {
   "cell_type": "code",
   "execution_count": 86,
   "metadata": {
    "collapsed": true
   },
   "outputs": [],
   "source": [
    "# 1.1 \n",
    "'''\n",
    "Implement an algorithm to determine if a string has all unique characters. \n",
    "What if you can not use additional data structures?\n",
    "'''\n",
    "\n",
    "# with hash-table\n",
    "def strUnique(s):\n",
    "    d={}\n",
    "    for s_i in s:\n",
    "        if not d.get(s_i):\n",
    "            d[s_i] = s_i\n",
    "        else:\n",
    "            return False\n",
    "    return True\n",
    "\n",
    "# without hash-table\n",
    "def strInPlace(s):\n",
    "    for i, s_i in enumerate(s):\n",
    "        for j in range(i+1,len(s)):\n",
    "            if s_i == s[j]:\n",
    "                return False\n",
    "    return True"
   ]
  },
  {
   "cell_type": "code",
   "execution_count": 91,
   "metadata": {},
   "outputs": [
    {
     "data": {
      "text/plain": [
       "True"
      ]
     },
     "execution_count": 91,
     "metadata": {},
     "output_type": "execute_result"
    }
   ],
   "source": [
    "strInPlace(\"21\")"
   ]
  },
  {
   "cell_type": "code",
   "execution_count": 36,
   "metadata": {
    "collapsed": true
   },
   "outputs": [],
   "source": [
    "# 1.2\n",
    "'''\n",
    "Write code to reverse a C-Style String. \n",
    "(C-String means that “abcd” is represented as five characters, including the null character.)\n",
    "'''\n",
    "\n",
    "def strReverse(s):\n",
    "    str_len = len(s)-2\n",
    "    strRev = \"\"\n",
    "    for i in range(str_len,-1,-1):\n",
    "        strRev += s[i]\n",
    "    return strRev+\"\\0\"\n",
    "\n",
    "def strReverse1(s):\n",
    "    if s:\n",
    "        res = s[:-1] # [begin:end:step]\n",
    "        res = res[::-1] # reverses string\n",
    "        return res+\"\\0\"\n",
    "    else:\n",
    "        return s"
   ]
  },
  {
   "cell_type": "code",
   "execution_count": 40,
   "metadata": {},
   "outputs": [
    {
     "data": {
      "text/plain": [
       "'cba\\x00'"
      ]
     },
     "execution_count": 40,
     "metadata": {},
     "output_type": "execute_result"
    }
   ],
   "source": [
    "strReverse(\"abc\\0\")"
   ]
  },
  {
   "cell_type": "code",
   "execution_count": 19,
   "metadata": {
    "collapsed": true
   },
   "outputs": [],
   "source": [
    "# 1.3\n",
    "\n",
    "'''\n",
    "Design an algorithm and write code to remove the duplicate characters in a string \n",
    "without using any additional buffer. \n",
    "NOTE: One or two additional variables are  fine. An extra copy of the array is not.\n",
    "'''\n",
    "\n",
    "def rmvDup(s):\n",
    "    d = {}\n",
    "    res = \"\"\n",
    "    for i in range(len(s)-1,-1,-1):\n",
    "        if not d.get(s[i]):\n",
    "            res = s[i] + res\n",
    "            d[s[i]]= s[i]\n",
    "    return res"
   ]
  },
  {
   "cell_type": "code",
   "execution_count": 20,
   "metadata": {},
   "outputs": [
    {
     "data": {
      "text/plain": [
       "'sfba'"
      ]
     },
     "execution_count": 20,
     "metadata": {},
     "output_type": "execute_result"
    }
   ],
   "source": [
    "rmvDup(\"aasfbaa\")"
   ]
  },
  {
   "cell_type": "code",
   "execution_count": null,
   "metadata": {
    "collapsed": true
   },
   "outputs": [],
   "source": [
    "s = \"abca\"\n",
    "k = 0\n",
    "cur_len=len(s)\n",
    "for i in range(k+1,cur_len):\n",
    "    if s[k] == s[i]:\n",
    "        s = s[:k]+s[k+1:]\n",
    "print(s)"
   ]
  },
  {
   "cell_type": "code",
   "execution_count": 40,
   "metadata": {
    "collapsed": true
   },
   "outputs": [],
   "source": [
    "#1.4 \n",
    "'''\n",
    "Write a method to decide if two strings are anagrams or not.\n",
    "'''\n",
    "def anagrams(s, t):\n",
    "    s =''.join(sorted(s))\n",
    "    t =''.join(sorted(t))\n",
    "    return s==t\n",
    "\n",
    "# 2nd version\n",
    "def anagrams2(s,t):\n",
    "    "
   ]
  },
  {
   "cell_type": "code",
   "execution_count": 44,
   "metadata": {},
   "outputs": [
    {
     "data": {
      "text/plain": [
       "False"
      ]
     },
     "execution_count": 44,
     "metadata": {},
     "output_type": "execute_result"
    }
   ],
   "source": [
    "anagrams(\"abcx\",\"cbea\")"
   ]
  },
  {
   "cell_type": "code",
   "execution_count": 219,
   "metadata": {
    "collapsed": true
   },
   "outputs": [],
   "source": [
    "#1.5 \n",
    "'''\n",
    "Write a method to replace all spaces in a string with ‘%20’\n",
    "'''\n",
    "def replace(mystr):\n",
    "    for i in range(len(mystr)-1,-1,-1):\n",
    "        if mystr[i] == \" \":\n",
    "            mystr = mystr[:i]+\"%20\"+mystr[i+1:]\n",
    "    return mystr"
   ]
  },
  {
   "cell_type": "code",
   "execution_count": 255,
   "metadata": {},
   "outputs": [
    {
     "data": {
      "text/plain": [
       "'%20f%20'"
      ]
     },
     "execution_count": 255,
     "metadata": {},
     "output_type": "execute_result"
    }
   ],
   "source": [
    "replace(\" f \")"
   ]
  },
  {
   "cell_type": "code",
   "execution_count": 83,
   "metadata": {},
   "outputs": [],
   "source": [
    "# 1.6\n",
    "'''\n",
    "Given an image represented by an NxN matrix, where each pixel in the image is 4 bytes, \n",
    "write a method to rotate the image by 90 degrees. \n",
    "Can you do this in place?\n",
    "'''\n",
    "\n",
    "def rotate(A):\n",
    "    n = len(A)\n",
    "    for i in range(n//2):\n",
    "        for j in range(n - n//2):\n",
    "            A[i][j], A[~j][i], A[~i][~j], A[j][~i] = A[~j][i], A[~i][~j], A[j][~i], A[i][j]\n",
    "    return A"
   ]
  },
  {
   "cell_type": "code",
   "execution_count": 98,
   "metadata": {},
   "outputs": [
    {
     "data": {
      "text/plain": [
       "[(7, 4, 1), (8, 5, 2), (9, 6, 3)]"
      ]
     },
     "execution_count": 98,
     "metadata": {},
     "output_type": "execute_result"
    }
   ],
   "source": [
    "A = [\n",
    "  [1,2,3],\n",
    "  [4,5,6],\n",
    "  [7,8,9]\n",
    "]\n",
    "rotate(A)"
   ]
  },
  {
   "cell_type": "code",
   "execution_count": 96,
   "metadata": {},
   "outputs": [],
   "source": [
    "def rotate1(A):\n",
    "    A = A[::-1]\n",
    "    A = list(zip(*A)) # * unpacks values from the list\n",
    "    return A"
   ]
  },
  {
   "cell_type": "code",
   "execution_count": 99,
   "metadata": {},
   "outputs": [
    {
     "data": {
      "text/plain": [
       "[(7, 4, 1), (8, 5, 2), (9, 6, 3)]"
      ]
     },
     "execution_count": 99,
     "metadata": {},
     "output_type": "execute_result"
    }
   ],
   "source": [
    "A = [\n",
    "  [1,2,3],\n",
    "  [4,5,6],\n",
    "  [7,8,9]\n",
    "]\n",
    "rotate1(A)"
   ]
  },
  {
   "cell_type": "code",
   "execution_count": 123,
   "metadata": {
    "collapsed": true
   },
   "outputs": [],
   "source": [
    "# 1.7\n",
    "'''\n",
    "Write an algorithm such that if an element in an MxN matrix is 0, \n",
    "its entire row and column is set to 0.\n",
    "'''\n",
    "def colZero(A):\n",
    "    d = {}\n",
    "    M = len(A)\n",
    "    N = len(A[0])\n",
    "    for i in range(M):\n",
    "        for j in range(N):\n",
    "            if A[i][j] == 0:\n",
    "                d[(i,j)] = 1\n",
    "    for i in range(M):\n",
    "        for j in range(N):\n",
    "            if d.get((i,j)):\n",
    "                A[i] = [0] * N\n",
    "                for row in A:\n",
    "                    row[j] = 0\n",
    "    return A"
   ]
  },
  {
   "cell_type": "code",
   "execution_count": 130,
   "metadata": {},
   "outputs": [
    {
     "data": {
      "text/plain": [
       "[[0, 2, 3], [0, 5, 6], [0, 0, 0], [0, 11, 12]]"
      ]
     },
     "execution_count": 130,
     "metadata": {},
     "output_type": "execute_result"
    }
   ],
   "source": [
    "A = [\n",
    "  [1,2,3],\n",
    "  [4,5,6],\n",
    "  [0,8,9],\n",
    "  [10,11,12]\n",
    "]\n",
    "colZero(A)"
   ]
  },
  {
   "cell_type": "code",
   "execution_count": 133,
   "metadata": {
    "collapsed": true
   },
   "outputs": [],
   "source": [
    "# 1.8\n",
    "'''\n",
    "Assume you have a method isSubstring which checks if one word is a substring of another. \n",
    "Given two strings, s1 and s2, write code to check if s2 is a rotation of s1\n",
    "using only one call to isSubstring (i.e., “waterbottle” is a rotation of “erbottlewat”).\n",
    "'''\n",
    "def isRotation (s1, s2):\n",
    "    if len(s1) != len(s2):\n",
    "        return False\n",
    "    temp = s1*2\n",
    "    if s2 in temp:\n",
    "        return True\n",
    "    else:\n",
    "        return False"
   ]
  },
  {
   "cell_type": "code",
   "execution_count": 136,
   "metadata": {},
   "outputs": [
    {
     "data": {
      "text/plain": [
       "False"
      ]
     },
     "execution_count": 136,
     "metadata": {},
     "output_type": "execute_result"
    }
   ],
   "source": [
    "isRotation(\"abcabd\", \"dababc\")"
   ]
  },
  {
   "cell_type": "markdown",
   "metadata": {},
   "source": [
    "### Chapter 2. Linked Lists"
   ]
  },
  {
   "cell_type": "code",
   "execution_count": 137,
   "metadata": {
    "collapsed": true
   },
   "outputs": [],
   "source": [
    "# Creating a Linked List\n"
   ]
  },
  {
   "cell_type": "code",
   "execution_count": null,
   "metadata": {
    "collapsed": true
   },
   "outputs": [],
   "source": [
    "# Deletinf a node from a singly linked list"
   ]
  },
  {
   "cell_type": "code",
   "execution_count": null,
   "metadata": {
    "collapsed": true
   },
   "outputs": [],
   "source": []
  },
  {
   "cell_type": "code",
   "execution_count": null,
   "metadata": {
    "collapsed": true
   },
   "outputs": [],
   "source": []
  },
  {
   "cell_type": "code",
   "execution_count": null,
   "metadata": {
    "collapsed": true
   },
   "outputs": [],
   "source": []
  },
  {
   "cell_type": "code",
   "execution_count": null,
   "metadata": {
    "collapsed": true
   },
   "outputs": [],
   "source": []
  },
  {
   "cell_type": "code",
   "execution_count": 60,
   "metadata": {
    "collapsed": true
   },
   "outputs": [],
   "source": [
    "# 5 approaches. Simplify & generalize\n",
    "\n",
    "'''A ransom note can be formed by cutting words out of a magazine to form a new sentence. \n",
    "How would you figure out if a ransom note (string) can be formed from a given magazine (string)?\n",
    "'''\n",
    "\n",
    "def ransomNote(rnsm, mgzn):\n",
    "    mydict = {}\n",
    "    for word in rnsm.split():\n",
    "        if not mydict.get(word):\n",
    "            mydict[word] = 1\n",
    "        else:\n",
    "            mydict[word]+=1\n",
    "    for word in mgzn.split():\n",
    "        if not mydict.get(word):\n",
    "            return False\n",
    "        else:\n",
    "            if mydict[word] == 1:\n",
    "                mydict.pop(word)\n",
    "            else:\n",
    "                mydict[word]-=1\n",
    "    return True"
   ]
  },
  {
   "cell_type": "code",
   "execution_count": 61,
   "metadata": {},
   "outputs": [
    {
     "data": {
      "text/plain": [
       "False"
      ]
     },
     "execution_count": 61,
     "metadata": {},
     "output_type": "execute_result"
    }
   ],
   "source": [
    "ransomNote(\"We want to kill you to have money\", \"me all is good We want to kill you to have money\")"
   ]
  },
  {
   "cell_type": "code",
   "execution_count": 66,
   "metadata": {
    "collapsed": true
   },
   "outputs": [],
   "source": [
    "def ransomEasy(ransom, magazine):\n",
    "    magazine = list(magazine)\n",
    "    for c in ransom:\n",
    "        try:\n",
    "            magazine.remove(c)\n",
    "        except ValueError:\n",
    "            return False\n",
    "    return True"
   ]
  },
  {
   "cell_type": "code",
   "execution_count": 68,
   "metadata": {},
   "outputs": [
    {
     "data": {
      "text/plain": [
       "True"
      ]
     },
     "execution_count": 68,
     "metadata": {},
     "output_type": "execute_result"
    }
   ],
   "source": [
    "ransomEasy(\"we lose\", \"wese lofdsaha\")"
   ]
  },
  {
   "cell_type": "code",
   "execution_count": 69,
   "metadata": {
    "collapsed": true
   },
   "outputs": [],
   "source": [
    "def ransomEasy1(ransom, magazine):\n",
    "    magazine = list(magazine)\n",
    "    for c in ransom:\n",
    "        if c in magazine:\n",
    "            magazine.remove(c)\n",
    "        else:\n",
    "            return False\n",
    "    return True"
   ]
  },
  {
   "cell_type": "code",
   "execution_count": 72,
   "metadata": {},
   "outputs": [
    {
     "data": {
      "text/plain": [
       "False"
      ]
     },
     "execution_count": 72,
     "metadata": {},
     "output_type": "execute_result"
    }
   ],
   "source": [
    "ransomEasy1(\"we lose\", \"wese lofdsaha\")"
   ]
  },
  {
   "cell_type": "code",
   "execution_count": null,
   "metadata": {
    "collapsed": true
   },
   "outputs": [],
   "source": [
    "# 46. Permutations\n",
    "'''\n",
    "Design an algorithm to print all permutations of a string. \n",
    "For simplicity, assume all characters are unique.\n",
    "'''\n",
    "\n",
    "def permute(mystr, n):\n",
    "    if n==0:\n",
    "        return mystr[n]\n",
    "    else:\n",
    "        store = permute(mystr, n-1)\n",
    "        for s in store:\n",
    "            for i in range(len(s)):\n",
    "                store.append(s[:i]+c+s[i:])"
   ]
  },
  {
   "cell_type": "code",
   "execution_count": null,
   "metadata": {
    "collapsed": true
   },
   "outputs": [],
   "source": [
    "def merge (c, s):\n",
    "    for i in range(len(s)):\n",
    "        \n",
    "        store.append(s[:i]+c+s[i:])\n",
    "    return store"
   ]
  },
  {
   "cell_type": "code",
   "execution_count": 90,
   "metadata": {},
   "outputs": [
    {
     "name": "stdout",
     "output_type": "stream",
     "text": [
      "a\n"
     ]
    }
   ],
   "source": [
    "s= \"abde\"\n",
    "s=s[:len(s)]+\"c\"+s[len(s):]\n",
    "print(s[0])"
   ]
  },
  {
   "cell_type": "code",
   "execution_count": 89,
   "metadata": {},
   "outputs": [
    {
     "data": {
      "text/plain": [
       "[1, 2, [[1], 2, [2]]]"
      ]
     },
     "execution_count": 89,
     "metadata": {},
     "output_type": "execute_result"
    }
   ],
   "source": [
    "store = [1,2]\n",
    "store.append([store[:1],2,store[1:]])\n",
    "store"
   ]
  },
  {
   "cell_type": "code",
   "execution_count": null,
   "metadata": {
    "collapsed": true
   },
   "outputs": [],
   "source": []
  }
 ],
 "metadata": {
  "kernelspec": {
   "display_name": "Python 3",
   "language": "python",
   "name": "python3"
  },
  "language_info": {
   "codemirror_mode": {
    "name": "ipython",
    "version": 3
   },
   "file_extension": ".py",
   "mimetype": "text/x-python",
   "name": "python",
   "nbconvert_exporter": "python",
   "pygments_lexer": "ipython3",
   "version": "3.6.1"
  }
 },
 "nbformat": 4,
 "nbformat_minor": 2
}
