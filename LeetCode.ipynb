{
 "cells": [
  {
   "cell_type": "code",
   "execution_count": 14,
   "metadata": {
    "collapsed": true
   },
   "outputs": [],
   "source": [
    "# 1. Two sum. Easy\n",
    "def twoSum(nums, target):\n",
    "    if len(nums)<1:\n",
    "        return False\n",
    "    else:\n",
    "        bf={}\n",
    "        for i in range(len(nums)):\n",
    "            if nums[i] in bf:\n",
    "                return [i, bf[nums[i]]]\n",
    "            else:\n",
    "                bf[target-nums[i]] = i"
   ]
  },
  {
   "cell_type": "code",
   "execution_count": 15,
   "metadata": {},
   "outputs": [
    {
     "data": {
      "text/plain": [
       "[1, 0]"
      ]
     },
     "execution_count": 15,
     "metadata": {},
     "output_type": "execute_result"
    }
   ],
   "source": [
    "twoSum([2, 7, 11, 15],9)"
   ]
  },
  {
   "cell_type": "code",
   "execution_count": 94,
   "metadata": {
    "collapsed": true
   },
   "outputs": [],
   "source": [
    "# 283. Move zeroes. Easy\n",
    "def moveZeroes(nums):\n",
    "    i=0\n",
    "    checked = 0\n",
    "    while checked<(len(nums)):\n",
    "        if nums[i]==0:\n",
    "            for j in range(i,len(nums)-1):\n",
    "                nums[j]=nums[j+1]\n",
    "                nums[j+1]=0\n",
    "        else:\n",
    "            i=i+1\n",
    "        checked+=1\n",
    "    return(nums)"
   ]
  },
  {
   "cell_type": "code",
   "execution_count": 95,
   "metadata": {},
   "outputs": [
    {
     "data": {
      "text/plain": [
       "[1, 0, 0]"
      ]
     },
     "execution_count": 95,
     "metadata": {},
     "output_type": "execute_result"
    }
   ],
   "source": [
    "nums = [0,0,1]\n",
    "moveZeroes(nums)"
   ]
  },
  {
   "cell_type": "code",
   "execution_count": 114,
   "metadata": {
    "collapsed": true
   },
   "outputs": [],
   "source": [
    "# 67. Add Binary. Easy\n",
    "def addBinary(a, b):\n",
    "    return str(bin(int(a,2)+int(b,2)))[2:]"
   ]
  },
  {
   "cell_type": "code",
   "execution_count": 115,
   "metadata": {},
   "outputs": [
    {
     "data": {
      "text/plain": [
       "'100'"
      ]
     },
     "execution_count": 115,
     "metadata": {},
     "output_type": "execute_result"
    }
   ],
   "source": [
    "addBinary(\"11\",\"1\")"
   ]
  },
  {
   "cell_type": "code",
   "execution_count": null,
   "metadata": {
    "collapsed": true
   },
   "outputs": [],
   "source": [
    "# 278 First Bad Version. Easy\n",
    "def firstBadVersion(self, n):\n",
    "    if n==1:\n",
    "        return 1\n",
    "    head = 1\n",
    "    tail = n\n",
    "    cur = n\n",
    "    while head<=tail:\n",
    "        mid = (tail+head)//2\n",
    "        if isBadVersion(mid):\n",
    "            cur=mid\n",
    "            tail = mid-1\n",
    "        else:\n",
    "            head = mid+1\n",
    "    return cur  "
   ]
  },
  {
   "cell_type": "code",
   "execution_count": null,
   "metadata": {
    "collapsed": true
   },
   "outputs": [],
   "source": [
    "# 257. Binary Tree Paths. Easy\n",
    "# Definition for a binary tree node.\n",
    "# class TreeNode(object):\n",
    "#     def __init__(self, x):\n",
    "#         self.val = x\n",
    "#         self.left = None\n",
    "#         self.right = None\n",
    "\n",
    "def binaryTreePaths(self, root):\n",
    "    all_paths=[]\n",
    "        "
   ]
  },
  {
   "cell_type": "code",
   "execution_count": 49,
   "metadata": {
    "collapsed": true
   },
   "outputs": [],
   "source": [
    "# 168. Excel Sheet Column Title. Easy\n",
    "'''\n",
    "    1 -> A\n",
    "    2 -> B\n",
    "    3 -> C\n",
    "    ...\n",
    "    26 -> Z\n",
    "    27 -> AA\n",
    "    28 -> AB \n",
    "'''\n",
    "\n",
    "def convertToTitle(n):\n",
    "    res = \"\"\n",
    "    while n > 0:\n",
    "        res = (chr((n-1)%26+ord('A'))) + res\n",
    "        n = (n-1) // 26\n",
    "    return ''.join(res)"
   ]
  },
  {
   "cell_type": "code",
   "execution_count": 50,
   "metadata": {},
   "outputs": [
    {
     "data": {
      "text/plain": [
       "'AZ'"
      ]
     },
     "execution_count": 50,
     "metadata": {},
     "output_type": "execute_result"
    }
   ],
   "source": [
    "convertToTitle(52)"
   ]
  },
  {
   "cell_type": "code",
   "execution_count": 6,
   "metadata": {},
   "outputs": [
    {
     "name": "stdout",
     "output_type": "stream",
     "text": [
      "\u0000\n"
     ]
    }
   ],
   "source": [
    "# 26. Remove Duplicates from Sorted Array\n",
    "def removeDuplicates(self, nums):\n",
    "    "
   ]
  },
  {
   "cell_type": "code",
   "execution_count": null,
   "metadata": {
    "collapsed": true
   },
   "outputs": [],
   "source": [
    "# 9. Palindrome Number\n",
    "def isPalindrome(x):\n",
    "    "
   ]
  },
  {
   "cell_type": "code",
   "execution_count": 1,
   "metadata": {
    "collapsed": true
   },
   "outputs": [],
   "source": [
    "# 205. Isomorphic Strings\n",
    "'''\n",
    "Given \"egg\", \"add\", return true.\n",
    "Given \"foo\", \"bar\", return false.\n",
    "Given \"paper\", \"title\", return true.\n",
    "'''\n",
    "\n",
    "def isIsomorphic(s,t):\n",
    "    if len(s)!=len(t):\n",
    "        return False\n",
    "    else:\n",
    "        dic_s={}\n",
    "        dic_t={}\n",
    "        for i in range(len(s)):\n",
    "            if not dic_s.get(s[i]):\n",
    "                dic_s[s[i]]=t[i]\n",
    "            if not dic_t.get(t[i]):\n",
    "                dic_t[t[i]]=s[i]\n",
    "            if dic_s.get(s[i])!=t[i] or dic_t.get(t[i])!=s[i]:\n",
    "                return False\n",
    "        return True"
   ]
  },
  {
   "cell_type": "code",
   "execution_count": 25,
   "metadata": {},
   "outputs": [
    {
     "name": "stdout",
     "output_type": "stream",
     "text": [
      "{'a': 'a'}\n",
      "{'a': 'a', 'b': 'a'}\n"
     ]
    },
    {
     "data": {
      "text/plain": [
       "True"
      ]
     },
     "execution_count": 25,
     "metadata": {},
     "output_type": "execute_result"
    }
   ],
   "source": [
    "isIsomorphic(\"aa\",\"ab\")"
   ]
  },
  {
   "cell_type": "code",
   "execution_count": 7,
   "metadata": {
    "collapsed": true
   },
   "outputs": [],
   "source": [
    "#760. Find Anagram Mappings\n",
    "def anagramMappings(A, B):\n",
    "    mydict = {}\n",
    "    for i,b in enumerate(B):\n",
    "        mydict[b] = i\n",
    "    inds = []\n",
    "    for a in A:\n",
    "        inds.append(mydict.get(a))\n",
    "    return inds"
   ]
  },
  {
   "cell_type": "code",
   "execution_count": 8,
   "metadata": {},
   "outputs": [
    {
     "data": {
      "text/plain": [
       "[1, 4, 3, 2, 0]"
      ]
     },
     "execution_count": 8,
     "metadata": {},
     "output_type": "execute_result"
    }
   ],
   "source": [
    "A = [12, 28, 46, 32, 50]\n",
    "B = [50, 12, 32, 46, 28]\n",
    "anagramMappings(A,B)"
   ]
  },
  {
   "cell_type": "code",
   "execution_count": 26,
   "metadata": {
    "collapsed": true
   },
   "outputs": [],
   "source": [
    "# 3. Longest Substring Without Repeating Characters\n",
    "'''\n",
    "Given a string, find the length of the longest substring without repeating characters.\n",
    "Examples:\n",
    "Given \"abcabcbb\", the answer is \"abc\", which the length is 3.\n",
    "Given \"bbbbb\", the answer is \"b\", with the length of 1.\n",
    "Given \"pwwkew\", the answer is \"wke\", with the length of 3. \n",
    "Note that the answer must be a substring, \"pwke\" is a subsequence and not a substring.\n",
    "'''\n",
    "\n",
    "def lengthOfLongestSubstring(s):\n",
    "    maxlen = 0\n",
    "    maxsubstr = \"\"\n",
    "    nunique = len(set(s))\n",
    "    for i,si in enumerate(s):\n",
    "        k = i\n",
    "        cursubstr = si\n",
    "        count = 0 \n",
    "        while k < (len(s)-1) and count < nunique:\n",
    "            k += 1\n",
    "            if not s[k] in cursubstr:\n",
    "                cursubstr += s[k]\n",
    "            else:\n",
    "                break\n",
    "            count+=1\n",
    "        if len(cursubstr) > maxlen:\n",
    "            maxlen = len(cursubstr)\n",
    "            maxsubstr = cursubstr\n",
    "    return maxlen, maxsubstr"
   ]
  },
  {
   "cell_type": "code",
   "execution_count": 27,
   "metadata": {},
   "outputs": [
    {
     "data": {
      "text/plain": [
       "(3, 'bwf')"
      ]
     },
     "execution_count": 27,
     "metadata": {},
     "output_type": "execute_result"
    }
   ],
   "source": [
    "lengthOfLongestSubstring(\"bwf\")"
   ]
  },
  {
   "cell_type": "code",
   "execution_count": 21,
   "metadata": {},
   "outputs": [],
   "source": [
    "# O(n)\n",
    "def lengthOfLongestSubstring1(s):\n",
    "    cur_str = []\n",
    "    maxlen = 0\n",
    "    for i, si in enumerate(s):\n",
    "        if not si in cur_str:\n",
    "            cur_str.append(si)\n",
    "        else:\n",
    "            maxlen = max(maxlen, len(cur_str))\n",
    "            cur_str = cur_str[cur_str.index(si)+1:]\n",
    "            cur_str.append(si)\n",
    "    return max(maxlen, len(cur_str))"
   ]
  },
  {
   "cell_type": "code",
   "execution_count": 20,
   "metadata": {},
   "outputs": [
    {
     "data": {
      "text/plain": [
       "2"
      ]
     },
     "execution_count": 20,
     "metadata": {},
     "output_type": "execute_result"
    }
   ],
   "source": [
    "lengthOfLongestSubstring1(\"aab\")"
   ]
  },
  {
   "cell_type": "code",
   "execution_count": 66,
   "metadata": {},
   "outputs": [],
   "source": [
    "# 9. Palindrome Number\n",
    "def isPalindrome(num):\n",
    "    num_len = 1\n",
    "    cur_num = num\n",
    "    while cur_num // 10 > 0:\n",
    "        num_len += 1\n",
    "        cur_num //= 10\n",
    "    for i in range(num_len//2):\n",
    "        r = (num//(10**i))%10\n",
    "        l = num//(10**(num_len-1-i))%10\n",
    "        if r!=l:\n",
    "            return False\n",
    "    return True"
   ]
  },
  {
   "cell_type": "code",
   "execution_count": 69,
   "metadata": {},
   "outputs": [
    {
     "name": "stdout",
     "output_type": "stream",
     "text": [
      "1 1\n",
      "2 2\n",
      "3 3\n"
     ]
    },
    {
     "data": {
      "text/plain": [
       "True"
      ]
     },
     "execution_count": 69,
     "metadata": {},
     "output_type": "execute_result"
    }
   ],
   "source": [
    "isPalindrome(1235321)"
   ]
  },
  {
   "cell_type": "code",
   "execution_count": 124,
   "metadata": {},
   "outputs": [],
   "source": [
    "# 13. Roman to Integer\n",
    "# 1 - I\n",
    "# 5 - V\n",
    "# 10 - X\n",
    "# 50 - L\n",
    "# 100 - C\n",
    "# 500 - D\n",
    "# 1000 - M\n",
    "def romanToInt(s):\n",
    "    d = {}\n",
    "    d[\"I\"] = 1\n",
    "    d[\"V\"] = 5\n",
    "    d[\"X\"] = 10\n",
    "    d[\"L\"] = 50\n",
    "    d[\"C\"] = 100\n",
    "    d[\"D\"] = 500\n",
    "    d[\"M\"] = 1000\n",
    "    res = 0\n",
    "    i = 0\n",
    "    while i < len(s):\n",
    "        if not d.get(s[i]):\n",
    "            return None\n",
    "        if (i+1) < len(s):\n",
    "            if d[s[i+1]] <= d[s[i]]:\n",
    "                res += d[s[i]]\n",
    "                i += 1\n",
    "            else:\n",
    "                res = res + d[s[i+1]] - d[s[i]]\n",
    "                i += 2\n",
    "        else:\n",
    "            res += d[s[i]]\n",
    "            i += 1\n",
    "    return res"
   ]
  },
  {
   "cell_type": "code",
   "execution_count": 125,
   "metadata": {},
   "outputs": [
    {
     "data": {
      "text/plain": [
       "621"
      ]
     },
     "execution_count": 125,
     "metadata": {},
     "output_type": "execute_result"
    }
   ],
   "source": [
    "romanToInt(\"DCXXI\")"
   ]
  },
  {
   "cell_type": "code",
   "execution_count": 84,
   "metadata": {},
   "outputs": [
    {
     "data": {
      "text/plain": [
       "5"
      ]
     },
     "execution_count": 84,
     "metadata": {},
     "output_type": "execute_result"
    }
   ],
   "source": [
    "d = {}\n",
    "d[\"I\"] = 1\n",
    "d[\"V\"] = 5\n",
    "d[\"X\"] = 10\n",
    "d[\"L\"] = 50\n",
    "d[\"C\"] = 100\n",
    "d[\"D\"] = 500\n",
    "d[\"M\"] = 1000\n",
    "s=\"VI\"\n",
    "d[s[0]]\n"
   ]
  },
  {
   "cell_type": "code",
   "execution_count": 83,
   "metadata": {},
   "outputs": [
    {
     "data": {
      "text/plain": [
       "'V'"
      ]
     },
     "execution_count": 83,
     "metadata": {},
     "output_type": "execute_result"
    }
   ],
   "source": [
    "# 12. Integer to Roman\n",
    "def intToRoman"
   ]
  },
  {
   "cell_type": "code",
   "execution_count": null,
   "metadata": {
    "collapsed": true
   },
   "outputs": [],
   "source": [
    "# 48. Rotate Image"
   ]
  },
  {
   "cell_type": "code",
   "execution_count": 134,
   "metadata": {},
   "outputs": [
    {
     "data": {
      "text/plain": [
       "[4, 5, 6]"
      ]
     },
     "execution_count": 134,
     "metadata": {},
     "output_type": "execute_result"
    }
   ],
   "source": [
    "A = [\n",
    "  [1,2,3],\n",
    "  [4,5,6],\n",
    "  [7,8,9]\n",
    "]\n",
    "A[~1]"
   ]
  },
  {
   "cell_type": "code",
   "execution_count": null,
   "metadata": {
    "collapsed": true
   },
   "outputs": [],
   "source": [
    "def rotateImage(matrix):\n",
    "    "
   ]
  },
  {
   "cell_type": "code",
   "execution_count": 155,
   "metadata": {},
   "outputs": [],
   "source": [
    "# 7. Reverse Integer\n",
    "def reverseInt(num):\n",
    "    res = ''.join(reversed(str(abs(num))))\n",
    "    if num < 0:\n",
    "        res = '-'+res\n",
    "    res = int(res)\n",
    "    return res if -2**31 <= res <= 2**31 else 0"
   ]
  },
  {
   "cell_type": "code",
   "execution_count": 156,
   "metadata": {},
   "outputs": [
    {
     "data": {
      "text/plain": [
       "-321"
      ]
     },
     "execution_count": 156,
     "metadata": {},
     "output_type": "execute_result"
    }
   ],
   "source": [
    "reverseInt(-123)"
   ]
  },
  {
   "cell_type": "code",
   "execution_count": 170,
   "metadata": {},
   "outputs": [],
   "source": [
    "def reverseInt1(num):\n",
    "    res = 0\n",
    "    cur_num = abs(num)\n",
    "    while cur_num != 0:\n",
    "        res = res*10 + cur_num % 10\n",
    "        cur_num //= 10\n",
    "    if num < 0:\n",
    "        res = -1*res\n",
    "    return res if -2**31 <= res <= 2**31 else 0"
   ]
  },
  {
   "cell_type": "code",
   "execution_count": 172,
   "metadata": {},
   "outputs": [
    {
     "data": {
      "text/plain": [
       "-321"
      ]
     },
     "execution_count": 172,
     "metadata": {},
     "output_type": "execute_result"
    }
   ],
   "source": [
    "reverseInt1(-123)"
   ]
  },
  {
   "cell_type": "code",
   "execution_count": 193,
   "metadata": {},
   "outputs": [],
   "source": [
    "# 66. Plus One\n",
    "\n",
    "def plusOne(digits):\n",
    "    res = 0\n",
    "    for d in digits:\n",
    "        res = res*10 + d\n",
    "    res += 1\n",
    "    return [int(i) for i in str(res)]"
   ]
  },
  {
   "cell_type": "code",
   "execution_count": 194,
   "metadata": {},
   "outputs": [
    {
     "data": {
      "text/plain": [
       "[1, 0, 4]"
      ]
     },
     "execution_count": 194,
     "metadata": {},
     "output_type": "execute_result"
    }
   ],
   "source": [
    "digits = [1,0,3]\n",
    "plusOne(digits)"
   ]
  },
  {
   "cell_type": "code",
   "execution_count": 206,
   "metadata": {},
   "outputs": [],
   "source": [
    "# 136. Single Number\n",
    "'''\n",
    "Given an array of integers, every element appears twice except for one. Find that single one.\n",
    "'''\n",
    "def singleNumber(nums):\n",
    "    \"\"\"\n",
    "    :type nums: List[int]\n",
    "    :rtype: int\n",
    "    \"\"\"\n",
    "    d = {}\n",
    "    for n in nums:\n",
    "        if not d.get(n):\n",
    "            d[n] = 1\n",
    "        else:\n",
    "            d[n] += 1\n",
    "    for key, value in d.items():\n",
    "        if value == 1:\n",
    "            return key"
   ]
  },
  {
   "cell_type": "code",
   "execution_count": 207,
   "metadata": {},
   "outputs": [
    {
     "data": {
      "text/plain": [
       "4"
      ]
     },
     "execution_count": 207,
     "metadata": {},
     "output_type": "execute_result"
    }
   ],
   "source": [
    "a = [3,1,1,3,2,2,4,5,5]\n",
    "singleNumber(a)"
   ]
  },
  {
   "cell_type": "code",
   "execution_count": 195,
   "metadata": {},
   "outputs": [
    {
     "data": {
      "text/plain": [
       "{'a': 1, 'b': 2}"
      ]
     },
     "execution_count": 195,
     "metadata": {},
     "output_type": "execute_result"
    }
   ],
   "source": [
    "'''\n",
    "NEED TO COmE BACK\n",
    "'''\n",
    "# without extraa memory\n",
    "# !!! bit manipulation"
   ]
  },
  {
   "cell_type": "code",
   "execution_count": null,
   "metadata": {
    "collapsed": true
   },
   "outputs": [],
   "source": [
    "# 20. Valid Parentheses\n",
    "\n",
    "def isValid(self, s):\n",
    "    "
   ]
  }
 ],
 "metadata": {
  "kernelspec": {
   "display_name": "Python 3",
   "language": "python",
   "name": "python3"
  },
  "language_info": {
   "codemirror_mode": {
    "name": "ipython",
    "version": 3
   },
   "file_extension": ".py",
   "mimetype": "text/x-python",
   "name": "python",
   "nbconvert_exporter": "python",
   "pygments_lexer": "ipython3",
   "version": "3.6.1"
  }
 },
 "nbformat": 4,
 "nbformat_minor": 2
}
