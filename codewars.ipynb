{
 "cells": [
  {
   "cell_type": "code",
   "execution_count": 2,
   "metadata": {
    "collapsed": true
   },
   "outputs": [],
   "source": [
    "# Isogram\n",
    "def is_isogram(string):\n",
    "    string = string.lower()\n",
    "    set = []\n",
    "    for s in string:\n",
    "        if s not in set:\n",
    "            set.extend(s)\n",
    "        else:\n",
    "            return False\n",
    "    return True"
   ]
  },
  {
   "cell_type": "code",
   "execution_count": 99,
   "metadata": {
    "collapsed": true
   },
   "outputs": [],
   "source": [
    "def elder_age(m,n,l,t):\n",
    "    res = 0\n",
    "    for i in list(range(m)):\n",
    "        res += max(0,i-l)\n",
    "    return (n*res)%t"
   ]
  },
  {
   "cell_type": "code",
   "execution_count": 100,
   "metadata": {},
   "outputs": [
    {
     "data": {
      "text/plain": [
       "5"
      ]
     },
     "execution_count": 100,
     "metadata": {},
     "output_type": "execute_result"
    }
   ],
   "source": [
    "elder_age(8,5,1,100)"
   ]
  },
  {
   "cell_type": "code",
   "execution_count": 80,
   "metadata": {},
   "outputs": [
    {
     "name": "stdout",
     "output_type": "stream",
     "text": [
      "[[0, 0, 0], [0, 0, 0]]\n"
     ]
    }
   ],
   "source": [
    "matrix = [[0]*3 for i in range(2)]\n",
    "print(matrix)"
   ]
  },
  {
   "cell_type": "code",
   "execution_count": 125,
   "metadata": {},
   "outputs": [
    {
     "name": "stdout",
     "output_type": "stream",
     "text": [
      "45\n",
      "45\n",
      "49\n",
      "49\n",
      "53\n",
      "53\n",
      "57\n",
      "57\n"
     ]
    }
   ],
   "source": [
    "m=10\n",
    "n=35\n",
    "l= 0\n",
    "t=100007\n",
    "rect = [[0]*m for i in range(n)]\n",
    "for i in range(n):\n",
    "    for j in range(m):\n",
    "        rect[i][j] = max(0, (i^j)-l)\n",
    "res = sum(map(sum, rect))%t\n",
    "\n",
    "print(sum(rect[0]))\n",
    "print(sum(rect[1]))\n",
    "print(sum(rect[2]))\n",
    "print(sum(rect[3]))\n",
    "print(sum(rect[4]))\n",
    "print(sum(rect[5]))\n",
    "print(sum(rect[6]))\n",
    "print(sum(rect[7]))"
   ]
  },
  {
   "cell_type": "code",
   "execution_count": 115,
   "metadata": {},
   "outputs": [
    {
     "data": {
      "text/plain": [
       "384.6774193548387"
      ]
     },
     "execution_count": 115,
     "metadata": {},
     "output_type": "execute_result"
    }
   ],
   "source": [
    "11925/31"
   ]
  },
  {
   "cell_type": "code",
   "execution_count": 128,
   "metadata": {
    "collapsed": true
   },
   "outputs": [],
   "source": [
    "def solve(a,b):\n",
    "    dicta = {}\n",
    "    dictb = {}\n",
    "    for el in a:\n",
    "        if el in dicta:\n",
    "            dicta[el] += 1\n",
    "        else:\n",
    "            dicta[el] = 1\n",
    "    for el in b:\n",
    "        if el in dictb:\n",
    "            dictb[el] += 1\n",
    "        else:\n",
    "            dictb[el] = 1\n",
    "    print(dicta)\n",
    "    print(dictb)\n",
    "    res = 0\n",
    "    for da in dicta:\n",
    "        for db in dictb:\n",
    "            \n",
    "            if dicta[da] > dictb[db]:\n",
    "                res = res+1\n",
    "            else:\n",
    "                return 0\n",
    "    return res"
   ]
  },
  {
   "cell_type": "code",
   "execution_count": 130,
   "metadata": {},
   "outputs": [
    {
     "name": "stdout",
     "output_type": "stream",
     "text": [
      "{'x': 1, 'y': 1, 'z': 1, 'f': 1}\n",
      "{'y': 1, 'x': 1, 'z': 1}\n"
     ]
    },
    {
     "data": {
      "text/plain": [
       "0"
      ]
     },
     "execution_count": 130,
     "metadata": {},
     "output_type": "execute_result"
    }
   ],
   "source": [
    "solve(\"xyzf\",\"yxz\")"
   ]
  },
  {
   "cell_type": "code",
   "execution_count": 151,
   "metadata": {
    "collapsed": true
   },
   "outputs": [],
   "source": [
    "def numbers_grouping(a):\n",
    "    mydict = {}\n",
    "    res = 0\n",
    "    for i in a:\n",
    "        group = (i-1)//10**4\n",
    "        if group in mydict:\n",
    "            res = res+1\n",
    "        else:\n",
    "            mydict[group] = 2 # +1 for group line\n",
    "            res = res+2\n",
    "    return res"
   ]
  },
  {
   "cell_type": "code",
   "execution_count": 157,
   "metadata": {},
   "outputs": [
    {
     "data": {
      "text/plain": [
       "11"
      ]
     },
     "execution_count": 157,
     "metadata": {},
     "output_type": "execute_result"
    }
   ],
   "source": [
    "numbers_grouping([20000, 239, 10001, 999999, 10000, 20566, 29999])"
   ]
  },
  {
   "cell_type": "code",
   "execution_count": 160,
   "metadata": {
    "collapsed": true
   },
   "outputs": [],
   "source": [
    "def numbers_grouping(a):\n",
    "    num_list = [ (i-1)//(10**4) for i in a]\n",
    "    return set(num_list)"
   ]
  },
  {
   "cell_type": "code",
   "execution_count": 168,
   "metadata": {
    "collapsed": true
   },
   "outputs": [],
   "source": [
    "def numbers_grouping(a):\n",
    "    groups = {(num-1)//10000 : True for num in a}\n",
    "    return groups"
   ]
  },
  {
   "cell_type": "code",
   "execution_count": 170,
   "metadata": {
    "collapsed": true
   },
   "outputs": [],
   "source": [
    "def numbers_grouping(l):\n",
    "    d = {}\n",
    "    for i in l:\n",
    "        n = (i - 1) // 10000\n",
    "        if n not in d:\n",
    "            d[n] = 1\n",
    "        else:\n",
    "            d[n] += 1\n",
    "    return sum(i + 1 for i in d.values())"
   ]
  },
  {
   "cell_type": "code",
   "execution_count": 174,
   "metadata": {},
   "outputs": [
    {
     "name": "stdout",
     "output_type": "stream",
     "text": [
      "sss\n",
      "ts\n"
     ]
    }
   ],
   "source": [
    "print(\"s\"*3)\n",
    "print(\"t\"+\"sss\"[0])"
   ]
  },
  {
   "cell_type": "code",
   "execution_count": 185,
   "metadata": {
    "collapsed": true
   },
   "outputs": [],
   "source": [
    "def accum(s):\n",
    "    res = \"\"\n",
    "    for i in range(len(s)):\n",
    "         res = res+s[i].upper()+s[i].lower()*i+\"-\"\n",
    "    res = res[:-1]\n",
    "    return res\n",
    "    # your code"
   ]
  },
  {
   "cell_type": "code",
   "execution_count": 186,
   "metadata": {},
   "outputs": [
    {
     "data": {
      "text/plain": [
       "'Z-Pp-Ggg-Llll-Nnnnn-Rrrrrr-Xxxxxxx-Qqqqqqqq-Eeeeeeeee-Nnnnnnnnnn-Uuuuuuuuuuu'"
      ]
     },
     "execution_count": 186,
     "metadata": {},
     "output_type": "execute_result"
    }
   ],
   "source": [
    "accum(\"ZpglnRxqenU\")"
   ]
  },
  {
   "cell_type": "code",
   "execution_count": 193,
   "metadata": {
    "collapsed": true
   },
   "outputs": [],
   "source": [
    "def accum(s):\n",
    "    return '-'.join(c.upper() + c.lower() * i for i, c in enumerate(s))"
   ]
  },
  {
   "cell_type": "code",
   "execution_count": 198,
   "metadata": {
    "collapsed": true
   },
   "outputs": [],
   "source": [
    "def evaporator(content, evap_per_day, threshold):\n",
    "    return int((threshold)/evap_per_day)"
   ]
  },
  {
   "cell_type": "code",
   "execution_count": 210,
   "metadata": {
    "collapsed": true
   },
   "outputs": [],
   "source": [
    "import math\n",
    "def evaporator(content, evap_per_day, threshold):\n",
    "    return math.ceil(math.log(threshold/100,(1-evap_per_day/100)))"
   ]
  },
  {
   "cell_type": "code",
   "execution_count": 212,
   "metadata": {},
   "outputs": [
    {
     "data": {
      "text/plain": [
       "22"
      ]
     },
     "execution_count": 212,
     "metadata": {},
     "output_type": "execute_result"
    }
   ],
   "source": [
    "evaporator(10, 10, 10)"
   ]
  },
  {
   "cell_type": "code",
   "execution_count": 228,
   "metadata": {
    "collapsed": true
   },
   "outputs": [],
   "source": [
    "def get_middle(s):\n",
    "    if len(s)%2==0:\n",
    "        return s[int(len(s)/2-1)]+s[int(len(s)/2)]\n",
    "    else:\n",
    "        return s[int(len(s)/2)]\n",
    "    #your code here"
   ]
  },
  {
   "cell_type": "code",
   "execution_count": 240,
   "metadata": {},
   "outputs": [
    {
     "data": {
      "text/plain": [
       "'es'"
      ]
     },
     "execution_count": 240,
     "metadata": {},
     "output_type": "execute_result"
    }
   ],
   "source": [
    "get_middle(\"test\")"
   ]
  },
  {
   "cell_type": "code",
   "execution_count": 239,
   "metadata": {
    "collapsed": true
   },
   "outputs": [],
   "source": [
    "def get_middle(s):\n",
    "    return s[(len(s)-1)//2:len(s)//2+1]"
   ]
  },
  {
   "cell_type": "code",
   "execution_count": 266,
   "metadata": {
    "collapsed": true
   },
   "outputs": [],
   "source": [
    "def likes(names):\n",
    "    if len(names) == 0:\n",
    "        str = \"no one likes this\" \n",
    "    elif len(names) == 1:\n",
    "        str = names[0]+\" likes this\"\n",
    "    elif len(names) == 2:\n",
    "        str= names[0]+\" and \"+names[1]+\" like this\"\n",
    "    elif len(names) == 3:\n",
    "        str= names[0]+\", \"+names[1]+\" and \"+names[2]+\" like this\"\n",
    "    elif len(names)>3:\n",
    "        print(repr(len(names[2:len(names)])))\n",
    "        str= names[0]+\", \"+names[1]+\" and \" +repr(len(names[2:len(names)-1]))+\" others like this\"\n",
    "    return str\n",
    "    #your code here"
   ]
  },
  {
   "cell_type": "code",
   "execution_count": 275,
   "metadata": {},
   "outputs": [
    {
     "name": "stdout",
     "output_type": "stream",
     "text": [
      "Alex Jacob\n"
     ]
    },
    {
     "data": {
      "text/plain": [
       "'Alex and Jacob like this'"
      ]
     },
     "execution_count": 275,
     "metadata": {},
     "output_type": "execute_result"
    }
   ],
   "source": [
    "likes(['Alex', 'Jacob'])"
   ]
  },
  {
   "cell_type": "code",
   "execution_count": 272,
   "metadata": {
    "collapsed": true
   },
   "outputs": [],
   "source": [
    "def likes(names):\n",
    "    n = len(names)\n",
    "    print(*names[:3])\n",
    "    return {\n",
    "        0: 'no one likes this',\n",
    "        1: '{} likes this', \n",
    "        2: '{} and {} like this', \n",
    "        3: '{}, {} and {} like this', \n",
    "        4: '{}, {} and {others} others like this'\n",
    "    }[min(4, n)].format(*names[:3], others=n-2)"
   ]
  },
  {
   "cell_type": "code",
   "execution_count": 273,
   "metadata": {},
   "outputs": [
    {
     "data": {
      "text/plain": [
       "'two ofe'"
      ]
     },
     "execution_count": 273,
     "metadata": {},
     "output_type": "execute_result"
    }
   ],
   "source": [
    "'{1} {0}'.format('ofe', 'two')"
   ]
  },
  {
   "cell_type": "code",
   "execution_count": 278,
   "metadata": {},
   "outputs": [
    {
     "name": "stdout",
     "output_type": "stream",
     "text": [
      "1 2\n"
     ]
    }
   ],
   "source": [
    "ar = [1,2]\n",
    "print(*ar[:3])"
   ]
  },
  {
   "cell_type": "code",
   "execution_count": 72,
   "metadata": {
    "collapsed": true
   },
   "outputs": [],
   "source": [
    "def title_case(title, minor_words=[]):\n",
    "    res = \"\"\n",
    "    title = title.lower()\n",
    "    if minor_words:\n",
    "        minor_words = minor_words.lower()\n",
    "        minor_words = minor_words.split()\n",
    "    words = title.split()\n",
    "    for i,s in enumerate (words):\n",
    "        if i==0 or not(s in minor_words):\n",
    "            s = s[0].upper()+s[1:]\n",
    "        res = res+s+\" \"\n",
    "    return res[:-1]"
   ]
  },
  {
   "cell_type": "code",
   "execution_count": 73,
   "metadata": {},
   "outputs": [
    {
     "data": {
      "text/plain": [
       "'First A Of In'"
      ]
     },
     "execution_count": 73,
     "metadata": {},
     "output_type": "execute_result"
    }
   ],
   "source": [
    "title_case('First a of in', minor_words='an often into')"
   ]
  },
  {
   "cell_type": "code",
   "execution_count": 95,
   "metadata": {
    "collapsed": true
   },
   "outputs": [],
   "source": [
    "def title_case(title, minor_words=''):\n",
    "    title = title.capitalize().split()\n",
    "    minor_words = minor_words.lower().split()\n",
    "    return ' '.join([t if t in minor_words else t.capitalize() for t in title])"
   ]
  },
  {
   "cell_type": "code",
   "execution_count": 96,
   "metadata": {},
   "outputs": [
    {
     "data": {
      "text/plain": [
       "'First A Of In'"
      ]
     },
     "execution_count": 96,
     "metadata": {},
     "output_type": "execute_result"
    }
   ],
   "source": [
    "title_case('First a of in', minor_words='an often into')"
   ]
  },
  {
   "cell_type": "code",
   "execution_count": null,
   "metadata": {
    "collapsed": true
   },
   "outputs": [],
   "source": [
    "i = 5 if a > 7 else 0"
   ]
  },
  {
   "cell_type": "code",
   "execution_count": 92,
   "metadata": {},
   "outputs": [
    {
     "name": "stdout",
     "output_type": "stream",
     "text": [
      "['First', 'a', 'of', 'in']\n"
     ]
    },
    {
     "data": {
      "text/plain": [
       "'First a Of In'"
      ]
     },
     "execution_count": 92,
     "metadata": {},
     "output_type": "execute_result"
    }
   ],
   "source": [
    "title_case('First a of in', minor_words='a often into')"
   ]
  },
  {
   "cell_type": "code",
   "execution_count": 179,
   "metadata": {
    "collapsed": true
   },
   "outputs": [],
   "source": [
    "def climb(n):\n",
    "    def reverse(n):\n",
    "        if n==1:\n",
    "            return [1]\n",
    "        return [n]+reverse(n//2)\n",
    "    t = list(reverse(n))\n",
    "    return t[::-1]"
   ]
  },
  {
   "cell_type": "code",
   "execution_count": 180,
   "metadata": {},
   "outputs": [
    {
     "data": {
      "text/plain": [
       "[1, 2, 5, 10]"
      ]
     },
     "execution_count": 180,
     "metadata": {},
     "output_type": "execute_result"
    }
   ],
   "source": [
    "climb(10)"
   ]
  },
  {
   "cell_type": "code",
   "execution_count": 196,
   "metadata": {
    "collapsed": true
   },
   "outputs": [],
   "source": [
    "def climb(n):\n",
    "    res = []\n",
    "    while n>0:\n",
    "        res = [n]+res\n",
    "        n //= 2\n",
    "    return res"
   ]
  },
  {
   "cell_type": "code",
   "execution_count": 197,
   "metadata": {},
   "outputs": [
    {
     "name": "stdout",
     "output_type": "stream",
     "text": [
      "[10]\n",
      "[5, 10]\n",
      "[2, 5, 10]\n",
      "[1, 2, 5, 10]\n"
     ]
    },
    {
     "data": {
      "text/plain": [
       "[1, 2, 5, 10]"
      ]
     },
     "execution_count": 197,
     "metadata": {},
     "output_type": "execute_result"
    }
   ],
   "source": [
    "climb(10)"
   ]
  },
  {
   "cell_type": "code",
   "execution_count": 221,
   "metadata": {
    "collapsed": true
   },
   "outputs": [],
   "source": [
    "def multiply(n, f):\n",
    "    res = 0\n",
    "    while f > 0:\n",
    "        if (f & 1):\n",
    "            res = res + n\n",
    "        n = n << 1\n",
    "        f = f >> 1\n",
    "        print([n, f])\n",
    "        print(res)\n",
    "    return res"
   ]
  },
  {
   "cell_type": "code",
   "execution_count": 225,
   "metadata": {},
   "outputs": [
    {
     "name": "stdout",
     "output_type": "stream",
     "text": [
      "[2, 6]\n",
      "1\n",
      "[4, 3]\n",
      "1\n",
      "[8, 1]\n",
      "5\n",
      "[16, 0]\n",
      "13\n"
     ]
    },
    {
     "data": {
      "text/plain": [
       "13"
      ]
     },
     "execution_count": 225,
     "metadata": {},
     "output_type": "execute_result"
    }
   ],
   "source": [
    "multiply(1,13)"
   ]
  },
  {
   "cell_type": "code",
   "execution_count": 213,
   "metadata": {
    "collapsed": true
   },
   "outputs": [],
   "source": [
    "# Russian peasant\n",
    "'''\n",
    "Let the two given numbers be 'a' and 'b'\n",
    "1) Initialize result 'res' as 0.\n",
    "2) Do following while 'b' is greater than 0\n",
    "   a) If 'b' is odd, add 'a' to 'res'\n",
    "   b) Double 'a' and halve 'b'\n",
    "3) Return 'res'. \n",
    "'''\n",
    "\n",
    "def multiply(n, f):\n",
    "    res = 0\n",
    "    while f>0:\n",
    "        if (f&1): # f is odd?\n",
    "            res += n\n",
    "        n = n << 1\n",
    "        f = f >> 1\n",
    "    return res\n",
    "    # your solution here"
   ]
  },
  {
   "cell_type": "code",
   "execution_count": 214,
   "metadata": {},
   "outputs": [
    {
     "data": {
      "text/plain": [
       "20"
      ]
     },
     "execution_count": 214,
     "metadata": {},
     "output_type": "execute_result"
    }
   ],
   "source": [
    "multiply(2,10)"
   ]
  },
  {
   "cell_type": "code",
   "execution_count": 256,
   "metadata": {
    "collapsed": true
   },
   "outputs": [],
   "source": [
    "def solution(s):\n",
    "    if s==\"\":\n",
    "        return []\n",
    "    res = [s[i:i+2] for i in range(0, len(s), 2)]\n",
    "    res[-1]+=(len(s)%2)*\"_\"\n",
    "    return res"
   ]
  },
  {
   "cell_type": "code",
   "execution_count": 259,
   "metadata": {},
   "outputs": [
    {
     "data": {
      "text/plain": [
       "[]"
      ]
     },
     "execution_count": 259,
     "metadata": {},
     "output_type": "execute_result"
    }
   ],
   "source": [
    "solution(\"\")"
   ]
  },
  {
   "cell_type": "code",
   "execution_count": 258,
   "metadata": {
    "collapsed": true
   },
   "outputs": [],
   "source": [
    "def solution(s):\n",
    "    return [(s + \"_\")[i:i + 2] for i in range(0, len(s), 2)]"
   ]
  },
  {
   "cell_type": "code",
   "execution_count": 261,
   "metadata": {},
   "outputs": [
    {
     "data": {
      "text/plain": [
       "'_'"
      ]
     },
     "execution_count": 261,
     "metadata": {},
     "output_type": "execute_result"
    }
   ],
   "source": [
    "s=\"\"\n",
    "(s + \"_\")[i:i + 2]"
   ]
  },
  {
   "cell_type": "code",
   "execution_count": 321,
   "metadata": {
    "collapsed": true
   },
   "outputs": [],
   "source": [
    "def battle(player1, player2):\n",
    "    switched = 0\n",
    "    surv = {'player1':[],'player2':[]}\n",
    "    for i,p in enumerate(player1):\n",
    "        if player2[i][0] < p[1]:\n",
    "            surv['player1'].append(p)\n",
    "        if player2[i][1] > p[0]:\n",
    "            surv['player2'].append(player2[i])\n",
    "    \n",
    "    return surv"
   ]
  },
  {
   "cell_type": "code",
   "execution_count": 322,
   "metadata": {},
   "outputs": [
    {
     "name": "stdout",
     "output_type": "stream",
     "text": [
      "2 1\n",
      "1 1\n",
      "2 2\n",
      "1 1\n",
      "3 2\n",
      "3 2\n"
     ]
    },
    {
     "data": {
      "text/plain": [
       "{'player1': [[1, 2], [3, 3]], 'player2': []}"
      ]
     },
     "execution_count": 322,
     "metadata": {},
     "output_type": "execute_result"
    }
   ],
   "source": [
    "battle([[1, 1], [2, 1], [2, 2], [5, 5]],[[1, 2], [1, 2], [3, 3]])"
   ]
  },
  {
   "cell_type": "code",
   "execution_count": 295,
   "metadata": {},
   "outputs": [
    {
     "data": {
      "text/plain": [
       "{'book': [[1, 3], [2, 5]]}"
      ]
     },
     "execution_count": 295,
     "metadata": {},
     "output_type": "execute_result"
    }
   ],
   "source": [
    "books = {}\n",
    "books['book'] = [[1,3]] \n",
    "books\n",
    "books['book'].append([2,5])\n",
    "books"
   ]
  },
  {
   "cell_type": "code",
   "execution_count": 318,
   "metadata": {},
   "outputs": [
    {
     "name": "stdout",
     "output_type": "stream",
     "text": [
      "3 4\n"
     ]
    }
   ],
   "source": [
    "print(3,4)"
   ]
  },
  {
   "cell_type": "code",
   "execution_count": 324,
   "metadata": {
    "collapsed": true
   },
   "outputs": [],
   "source": [
    "A,B,C = [0,0,0]"
   ]
  },
  {
   "cell_type": "code",
   "execution_count": 340,
   "metadata": {
    "collapsed": true
   },
   "outputs": [],
   "source": [
    "def solution(number):\n",
    "    A,B,C = [0,0,0]\n",
    "    for i in range(1, number):\n",
    "        if i%3==0 and i%5!=0:\n",
    "            A+=1\n",
    "        elif i%5==0 and i%3!=0:\n",
    "            B+=1\n",
    "        elif i%3==0 and i%5==0:\n",
    "            C+=1\n",
    "    return [A,B,C]"
   ]
  },
  {
   "cell_type": "code",
   "execution_count": 341,
   "metadata": {},
   "outputs": [
    {
     "data": {
      "text/plain": [
       "[5, 2, 1]"
      ]
     },
     "execution_count": 341,
     "metadata": {},
     "output_type": "execute_result"
    }
   ],
   "source": [
    "solution(20)"
   ]
  },
  {
   "cell_type": "code",
   "execution_count": 342,
   "metadata": {
    "collapsed": true
   },
   "outputs": [],
   "source": [
    "def solution(number):\n",
    "    A = (number - 1) // 3\n",
    "    B = (number - 1) // 5\n",
    "    C = (number - 1) // 15    \n",
    "    return [A - C, B - C, C]"
   ]
  },
  {
   "cell_type": "code",
   "execution_count": 343,
   "metadata": {},
   "outputs": [
    {
     "data": {
      "text/plain": [
       "[5, 2, 1]"
      ]
     },
     "execution_count": 343,
     "metadata": {},
     "output_type": "execute_result"
    }
   ],
   "source": [
    "solution(20)"
   ]
  },
  {
   "cell_type": "code",
   "execution_count": null,
   "metadata": {
    "collapsed": true
   },
   "outputs": [],
   "source": [
    "# FizzBuzz without ifs\n",
    "def fizzbuzz(num):\n",
    "    "
   ]
  },
  {
   "cell_type": "code",
   "execution_count": 344,
   "metadata": {
    "collapsed": true
   },
   "outputs": [],
   "source": [
    "def generate_ints(N):\n",
    "    for i in range(N):\n",
    "        yield i"
   ]
  },
  {
   "cell_type": "code",
   "execution_count": 345,
   "metadata": {},
   "outputs": [
    {
     "data": {
      "text/plain": [
       "<generator object generate_ints at 0x107d073b8>"
      ]
     },
     "execution_count": 345,
     "metadata": {},
     "output_type": "execute_result"
    }
   ],
   "source": [
    "gen = generate_ints(3)\n",
    "gen "
   ]
  },
  {
   "cell_type": "code",
   "execution_count": 346,
   "metadata": {},
   "outputs": [
    {
     "data": {
      "text/plain": [
       "0"
      ]
     },
     "execution_count": 346,
     "metadata": {},
     "output_type": "execute_result"
    }
   ],
   "source": [
    "next(gen)"
   ]
  },
  {
   "cell_type": "code",
   "execution_count": 347,
   "metadata": {},
   "outputs": [
    {
     "data": {
      "text/plain": [
       "1"
      ]
     },
     "execution_count": 347,
     "metadata": {},
     "output_type": "execute_result"
    }
   ],
   "source": [
    "next(gen)"
   ]
  },
  {
   "cell_type": "code",
   "execution_count": 353,
   "metadata": {
    "collapsed": true
   },
   "outputs": [],
   "source": [
    "a,b,c = generate_ints(3)"
   ]
  },
  {
   "cell_type": "code",
   "execution_count": 356,
   "metadata": {
    "collapsed": true
   },
   "outputs": [],
   "source": [
    "def upper(s):\n",
    "    return s.upper()"
   ]
  },
  {
   "cell_type": "code",
   "execution_count": 362,
   "metadata": {},
   "outputs": [
    {
     "data": {
      "text/plain": [
       "['SENTENCE', 'FRAGMENT']"
      ]
     },
     "execution_count": 362,
     "metadata": {},
     "output_type": "execute_result"
    }
   ],
   "source": [
    "list(map(upper, ['sentence', 'fragment']))"
   ]
  },
  {
   "cell_type": "code",
   "execution_count": 363,
   "metadata": {},
   "outputs": [
    {
     "data": {
      "text/plain": [
       "['SENTENCE', 'FRAGMENT']"
      ]
     },
     "execution_count": 363,
     "metadata": {},
     "output_type": "execute_result"
    }
   ],
   "source": [
    "[upper(s) for s in ['sentence', 'fragment']]"
   ]
  },
  {
   "cell_type": "code",
   "execution_count": 403,
   "metadata": {},
   "outputs": [
    {
     "name": "stdout",
     "output_type": "stream",
     "text": [
      "Value : 7\n",
      "Value : Never\n"
     ]
    }
   ],
   "source": [
    "dict = {'Name': 'Zabra', 'Age': 7}\n",
    "print(\"Value : %s\" % dict.get('Age'))\n",
    "print(\"Value : %s\" % dict.get('Education', \"Never\"))"
   ]
  },
  {
   "cell_type": "code",
   "execution_count": 397,
   "metadata": {
    "collapsed": true
   },
   "outputs": [],
   "source": [
    "# Fizz Buzz with restrictions\n",
    "def fizz_buzz(x):\n",
    "    print({0:\"Fizz Buzz\"}.get(x%15,{0:\"Fizz\"}.get(x%3,{0:\"Buzz\"}.get(x%5,repr(x)))))\n",
    "    pass"
   ]
  },
  {
   "cell_type": "code",
   "execution_count": 398,
   "metadata": {},
   "outputs": [
    {
     "name": "stdout",
     "output_type": "stream",
     "text": [
      "7\n"
     ]
    }
   ],
   "source": [
    "fizz_buzz(7)"
   ]
  },
  {
   "cell_type": "code",
   "execution_count": 399,
   "metadata": {
    "collapsed": true
   },
   "outputs": [],
   "source": [
    "f = lambda x: 2*x "
   ]
  },
  {
   "cell_type": "code",
   "execution_count": 401,
   "metadata": {
    "collapsed": true
   },
   "outputs": [],
   "source": [
    "fizz_buzz = lambda x: ({0:\"Fizz Buzz\"}.get(x%15,{0:\"Fizz\"}.get(x%3,{0:\"Buzz\"}.get(x%5,repr(x)))))"
   ]
  },
  {
   "cell_type": "code",
   "execution_count": 437,
   "metadata": {
    "collapsed": true
   },
   "outputs": [],
   "source": [
    "# pi approximation\n",
    "import math\n",
    "def iter_pi(epsilon):\n",
    "    pi = 0\n",
    "    i = 0\n",
    "    while (abs(4*pi-math.pi)>epsilon):\n",
    "        pi += (-1)**i*(1/(2*i+1))\n",
    "        i +=1\n",
    "    return [i, round(4*pi,10)]\n",
    "    # your code\n"
   ]
  },
  {
   "cell_type": "code",
   "execution_count": 438,
   "metadata": {},
   "outputs": [
    {
     "data": {
      "text/plain": [
       "[10, 3.0418396189]"
      ]
     },
     "execution_count": 438,
     "metadata": {},
     "output_type": "execute_result"
    }
   ],
   "source": [
    "iter_pi(0.1)"
   ]
  },
  {
   "cell_type": "code",
   "execution_count": 441,
   "metadata": {
    "collapsed": true
   },
   "outputs": [],
   "source": [
    "def is_prime(a):\n",
    "    return all(a % i for i in range(2, a))"
   ]
  },
  {
   "cell_type": "code",
   "execution_count": 478,
   "metadata": {
    "collapsed": true
   },
   "outputs": [],
   "source": [
    "def is_twinprime(n):\n",
    "    if n<=2:\n",
    "        return False\n",
    "    isprime = all(n % i for i in range(2, n)) \n",
    "    greprime = all((n+2) % i for i in range(2, n+2))\n",
    "    lprime = all((n-2) % i for i in range(2, n-2))\n",
    "    return isprime and (greprime or lprime)"
   ]
  },
  {
   "cell_type": "code",
   "execution_count": 479,
   "metadata": {},
   "outputs": [
    {
     "data": {
      "text/plain": [
       "False"
      ]
     },
     "execution_count": 479,
     "metadata": {},
     "output_type": "execute_result"
    }
   ],
   "source": [
    "is_twinprime(953)"
   ]
  },
  {
   "cell_type": "code",
   "execution_count": 7,
   "metadata": {},
   "outputs": [
    {
     "data": {
      "text/plain": [
       "'             aaa              '"
      ]
     },
     "execution_count": 7,
     "metadata": {},
     "output_type": "execute_result"
    }
   ],
   "source": [
    "# pyramid\n",
    "'{:^30}'.format('a'*3)"
   ]
  },
  {
   "cell_type": "code",
   "execution_count": 98,
   "metadata": {
    "collapsed": true
   },
   "outputs": [],
   "source": [
    "def watch_pyramid_from_the_side(characters):\n",
    "    chars = list(reversed(characters))\n",
    "    return '\\n'.join('{:^{}}'.format(c*((i+1)*2-1),(len(chars)-1)*2+1) for i, c in enumerate(chars))"
   ]
  },
  {
   "cell_type": "code",
   "execution_count": 101,
   "metadata": {},
   "outputs": [
    {
     "name": "stdout",
     "output_type": "stream",
     "text": [
      "  c  \n",
      " bbb \n",
      "aaaaa\n"
     ]
    }
   ],
   "source": [
    "print(watch_pyramid_from_the_side('abc'))"
   ]
  },
  {
   "cell_type": "code",
   "execution_count": 97,
   "metadata": {},
   "outputs": [
    {
     "name": "stdout",
     "output_type": "stream",
     "text": [
      " # \n",
      "***\n"
     ]
    }
   ],
   "source": [
    "def watch_pyramid_from_above(characters):\n",
    "    chars = characters.split()\n",
    "    \n",
    "    pass"
   ]
  },
  {
   "cell_type": "code",
   "execution_count": 113,
   "metadata": {},
   "outputs": [
    {
     "data": {
      "text/plain": [
       "'---+df+---'"
      ]
     },
     "execution_count": 113,
     "metadata": {},
     "output_type": "execute_result"
    }
   ],
   "source": [
    "'{:{fill}^10}'.format('{:{fill}^4}'.format(\"df\", fill='+'), fill=\"-\")"
   ]
  },
  {
   "cell_type": "code",
   "execution_count": 104,
   "metadata": {
    "collapsed": true
   },
   "outputs": [],
   "source": [
    "def count_visible_characters_of_the_pyramid(characters):\n",
    "    return len(characters)**2"
   ]
  },
  {
   "cell_type": "code",
   "execution_count": 105,
   "metadata": {},
   "outputs": [
    {
     "name": "stdout",
     "output_type": "stream",
     "text": [
      "4\n"
     ]
    }
   ],
   "source": [
    "print(count_visible_characters_of_the_pyramid(\"#*\"))"
   ]
  },
  {
   "cell_type": "code",
   "execution_count": 110,
   "metadata": {
    "collapsed": true
   },
   "outputs": [],
   "source": [
    "def count_all_characters_of_the_pyramid(characters):\n",
    "    return sum([(2*i+1)**2 for i in range(len(characters))])"
   ]
  },
  {
   "cell_type": "code",
   "execution_count": 111,
   "metadata": {},
   "outputs": [
    {
     "data": {
      "text/plain": [
       "10"
      ]
     },
     "execution_count": 111,
     "metadata": {},
     "output_type": "execute_result"
    }
   ],
   "source": [
    "count_all_characters_of_the_pyramid(\"#*\")"
   ]
  },
  {
   "cell_type": "code",
   "execution_count": 123,
   "metadata": {},
   "outputs": [
    {
     "data": {
      "text/plain": [
       "0.6666666666666666"
      ]
     },
     "execution_count": 123,
     "metadata": {},
     "output_type": "execute_result"
    }
   ],
   "source": [
    "(0.15*0.4)/(0.15*0.4+0.05*0.6)"
   ]
  },
  {
   "cell_type": "code",
   "execution_count": 124,
   "metadata": {},
   "outputs": [
    {
     "ename": "TypeError",
     "evalue": "an integer is required (got type range)",
     "output_type": "error",
     "traceback": [
      "\u001b[0;31m---------------------------------------------------------------------------\u001b[0m",
      "\u001b[0;31mTypeError\u001b[0m                                 Traceback (most recent call last)",
      "\u001b[0;32m<ipython-input-124-75fbde8a667e>\u001b[0m in \u001b[0;36m<module>\u001b[0;34m()\u001b[0m\n\u001b[1;32m      3\u001b[0m \u001b[0mN\u001b[0m \u001b[0;34m=\u001b[0m \u001b[0;36m50\u001b[0m\u001b[0;34m\u001b[0m\u001b[0m\n\u001b[1;32m      4\u001b[0m \u001b[0mk\u001b[0m \u001b[0;34m=\u001b[0m \u001b[0mrange\u001b[0m\u001b[0;34m(\u001b[0m\u001b[0;36m20\u001b[0m\u001b[0;34m)\u001b[0m\u001b[0;34m\u001b[0m\u001b[0m\n\u001b[0;32m----> 5\u001b[0;31m \u001b[0mfact\u001b[0m \u001b[0;34m=\u001b[0m \u001b[0mmath\u001b[0m\u001b[0;34m.\u001b[0m\u001b[0mfactorial\u001b[0m\u001b[0;34m(\u001b[0m\u001b[0mN\u001b[0m\u001b[0;34m)\u001b[0m\u001b[0;34m/\u001b[0m\u001b[0;34m(\u001b[0m\u001b[0mmath\u001b[0m\u001b[0;34m.\u001b[0m\u001b[0mfactorial\u001b[0m\u001b[0;34m(\u001b[0m\u001b[0mk\u001b[0m\u001b[0;34m)\u001b[0m\u001b[0;34m*\u001b[0m\u001b[0mmath\u001b[0m\u001b[0;34m.\u001b[0m\u001b[0mfactorial\u001b[0m\u001b[0;34m(\u001b[0m\u001b[0mN\u001b[0m\u001b[0;34m-\u001b[0m\u001b[0mk\u001b[0m\u001b[0;34m)\u001b[0m\u001b[0;34m)\u001b[0m\u001b[0;34m\u001b[0m\u001b[0m\n\u001b[0m",
      "\u001b[0;31mTypeError\u001b[0m: an integer is required (got type range)"
     ]
    }
   ],
   "source": [
    "import math\n",
    "import matplotlib.pyplot as plt\n",
    "N = 50\n",
    "k = range(20)\n",
    "fact = math.factorial(N)/(math.factorial(k)*math.factorial(N-k))"
   ]
  },
  {
   "cell_type": "code",
   "execution_count": 97,
   "metadata": {},
   "outputs": [],
   "source": [
    "def watch_pyramid_from_above(characters):\n",
    "    chars = list(reversed(characters))\n",
    "    M = [[0 for i in range((len(chars)-1)*2+1)] for j in range((len(chars)-1)*2+1)]\n",
    "    i=0\n",
    "    while i < len(chars):\n",
    "        for j in range(i,(len(chars)-1)*2-i+1):\n",
    "            M[j][i] = chars[i]\n",
    "            M[i][j] = chars[i]\n",
    "            M[(len(chars)-1)*2-i][j] = chars[i]\n",
    "            M[j][(len(chars)-1)*2-i] = chars[i]\n",
    "        i+=1\n",
    "    res =\"\"\n",
    "    for i in range(len(M)):\n",
    "        for j in range(len(M)):\n",
    "            res+=M[i][j]\n",
    "            if j == len(M)-1:\n",
    "                res+=\"\\n\"\n",
    "    return res[:-1]"
   ]
  },
  {
   "cell_type": "code",
   "execution_count": 102,
   "metadata": {},
   "outputs": [
    {
     "data": {
      "text/plain": [
       "'eeeeeeeee\\neddddddde\\nedcccccde\\nedcbbbcde\\nedcbabcde\\nedcbbbcde\\nedcccccde\\neddddddde\\neeeeeeeee'"
      ]
     },
     "execution_count": 102,
     "metadata": {},
     "output_type": "execute_result"
    }
   ],
   "source": [
    "watch_pyramid_from_above(\"abcde\")"
   ]
  },
  {
   "cell_type": "code",
   "execution_count": 36,
   "metadata": {},
   "outputs": [
    {
     "name": "stdout",
     "output_type": "stream",
     "text": [
      "[1, 2, 3, 4]\n"
     ]
    }
   ],
   "source": [
    "print(list(range(1,5)))"
   ]
  },
  {
   "cell_type": "code",
   "execution_count": 116,
   "metadata": {
    "collapsed": true
   },
   "outputs": [],
   "source": [
    "def watch_pyramid_from_the_side(characters):\n",
    "    chars = list(reversed(characters))\n",
    "    return '\\n'.join('{:^{}}'.format(c*((i+1)*2-1),(len(chars)-1)*2+1) for i, c in enumerate(chars))\n",
    "\n",
    "\n",
    "def watch_pyramid_from_above(characters):\n",
    "    chars = list(characters)\n",
    "    M = [[0 for i in range((len(chars)-1)*2+1)] for j in range((len(chars)-1)*2+1)]\n",
    "    i=0\n",
    "    while i < len(chars):\n",
    "        for j in range(i,(len(chars)-1)*2-i+1):\n",
    "            M[j][i] = chars[i]\n",
    "            M[i][j] = chars[i]\n",
    "            M[(len(chars)-1)*2-i][j] = chars[i]\n",
    "            M[j][(len(chars)-1)*2-i] = chars[i]\n",
    "        i+=1\n",
    "    res =\"\"\n",
    "    for i in range(len(M)):\n",
    "        for j in range(len(M)):\n",
    "            res+=M[i][j]\n",
    "            if j == len(M)-1:\n",
    "                res+=\"\\n\"\n",
    "    return res[:-1]\n",
    "\n",
    "def count_visible_characters_of_the_pyramid(characters):\n",
    "    return ((len(characters)-1)*2+1)**2\n",
    "\n",
    "\n",
    "def count_all_characters_of_the_pyramid(characters):\n",
    "    return sum([(2*i+1)**2 for i in range(len(characters))])\n",
    "\n"
   ]
  },
  {
   "cell_type": "code",
   "execution_count": 117,
   "metadata": {},
   "outputs": [
    {
     "data": {
      "text/plain": [
       "10"
      ]
     },
     "execution_count": 117,
     "metadata": {},
     "output_type": "execute_result"
    }
   ],
   "source": [
    "watch_pyramid_from_the_side(\"#*\")\n",
    "watch_pyramid_from_above(\"#*\")\n",
    "count_visible_characters_of_the_pyramid(\"#*\")\n",
    "count_all_characters_of_the_pyramid(\"#*\")"
   ]
  },
  {
   "cell_type": "code",
   "execution_count": null,
   "metadata": {
    "collapsed": true
   },
   "outputs": [],
   "source": []
  }
 ],
 "metadata": {
  "kernelspec": {
   "display_name": "Python 3",
   "language": "python",
   "name": "python3"
  },
  "language_info": {
   "codemirror_mode": {
    "name": "ipython",
    "version": 3
   },
   "file_extension": ".py",
   "mimetype": "text/x-python",
   "name": "python",
   "nbconvert_exporter": "python",
   "pygments_lexer": "ipython3",
   "version": "3.6.1"
  }
 },
 "nbformat": 4,
 "nbformat_minor": 2
}
